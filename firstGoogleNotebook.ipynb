{
  "nbformat": 4,
  "nbformat_minor": 0,
  "metadata": {
    "colab": {
      "name": "firstGoogleNotebook.ipynb",
      "provenance": [],
      "authorship_tag": "ABX9TyOx9UPJFPibFrL9Oh2rTynV",
      "include_colab_link": true
    },
    "kernelspec": {
      "name": "python3",
      "display_name": "Python 3"
    }
  },
  "cells": [
    {
      "cell_type": "markdown",
      "metadata": {
        "id": "view-in-github",
        "colab_type": "text"
      },
      "source": [
        "<a href=\"https://colab.research.google.com/github/T-Samps/IST-210-Spring-2020/blob/master/firstGoogleNotebook.ipynb\" target=\"_parent\"><img src=\"https://colab.research.google.com/assets/colab-badge.svg\" alt=\"Open In Colab\"/></a>"
      ]
    },
    {
      "cell_type": "markdown",
      "metadata": {
        "id": "A0nxW7-Y23BX",
        "colab_type": "text"
      },
      "source": [
        "### Name\n",
        "     Tyler Sampsell\n",
        "### IST Related Interests\n",
        "     Cyber Security\n",
        "### Future Job/Career\n",
        "     Programmer"
      ]
    },
    {
      "cell_type": "markdown",
      "metadata": {
        "id": "xxGryQdQYLxK",
        "colab_type": "text"
      },
      "source": [
        "![alt text](https://raw.githubusercontent.com/T-Samps/IST-210-Spring-2020/master/introduction/Me.png)"
      ]
    }
  ]
}