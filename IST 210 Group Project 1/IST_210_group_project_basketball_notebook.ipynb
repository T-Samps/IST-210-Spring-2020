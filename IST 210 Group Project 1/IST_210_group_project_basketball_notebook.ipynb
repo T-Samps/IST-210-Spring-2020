{
  "nbformat": 4,
  "nbformat_minor": 0,
  "metadata": {
    "colab": {
      "name": "IST 210 group project basketball notebook.ipynb",
      "provenance": [],
      "authorship_tag": "ABX9TyN5gy53x7FppsMXaWSmVx7L",
      "include_colab_link": true
    },
    "kernelspec": {
      "name": "python3",
      "display_name": "Python 3"
    }
  },
  "cells": [
    {
      "cell_type": "markdown",
      "metadata": {
        "id": "view-in-github",
        "colab_type": "text"
      },
      "source": [
        "<a href=\"https://colab.research.google.com/github/T-Samps/IST-210-Spring-2020/blob/master/IST%20210%20Group%20Project%201/IST_210_group_project_basketball_notebook.ipynb\" target=\"_parent\"><img src=\"https://colab.research.google.com/assets/colab-badge.svg\" alt=\"Open In Colab\"/></a>"
      ]
    },
    {
      "cell_type": "markdown",
      "metadata": {
        "id": "jck8IoUdS1GT",
        "colab_type": "text"
      },
      "source": [
        "Standard database. Since designs already exist for basketball databases, this database is considered a new product, not a new business idea. Game stats entity includes stats such as points, assists, blocks, steals. Players entity includes the player name, jersey number, height, and weight. Positions entity includes position, team role, and starter or sub. Teams entity includes team name and amount of players. Conferences entity includes conference name, amount of teams in conference, and division."
      ]
    },
    {
      "cell_type": "markdown",
      "metadata": {
        "id": "iY3B5GNOsg1H",
        "colab_type": "text"
      },
      "source": [
        "![alt text](https://raw.githubusercontent.com/T-Samps/IST-210-Spring-2020/master/IST%20210%20Group%20Project%201/IST%20group%20project%20basketball.png)"
      ]
    }
  ]
}