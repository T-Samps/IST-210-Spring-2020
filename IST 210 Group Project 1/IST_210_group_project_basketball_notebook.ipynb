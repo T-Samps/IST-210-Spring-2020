{
  "nbformat": 4,
  "nbformat_minor": 0,
  "metadata": {
    "colab": {
      "name": "IST 210 group project basketball notebook.ipynb",
      "provenance": [],
      "authorship_tag": "ABX9TyM7VO8NEyuy9X4YXI17/jk2",
      "include_colab_link": true
    },
    "kernelspec": {
      "name": "python3",
      "display_name": "Python 3"
    }
  },
  "cells": [
    {
      "cell_type": "markdown",
      "metadata": {
        "id": "view-in-github",
        "colab_type": "text"
      },
      "source": [
        "<a href=\"https://colab.research.google.com/github/T-Samps/IST-210-Spring-2020/blob/master/IST%20210%20Group%20Project%201/IST_210_group_project_basketball_notebook.ipynb\" target=\"_parent\"><img src=\"https://colab.research.google.com/assets/colab-badge.svg\" alt=\"Open In Colab\"/></a>"
      ]
    },
    {
      "cell_type": "markdown",
      "metadata": {
        "id": "jck8IoUdS1GT",
        "colab_type": "text"
      },
      "source": [
        "Our first idea is for an independent business based around basketball, but with a bigger focus on local high school level competitions. This business would specialize in recording and publishing the stats per game of all players of the participating divisions. This is an example of a standard database, a database which uniquely stores valuable information about a high school basketball team. Since the design for a basketball or sports database already exists, this example is considered a new product, not a new business idea.  Each element of the game has been separated into different categories which include specific data points. The entity for game statistics includes data such as points scored, assists, blocks, and steals. This is arguably the most important entity, as the player stats must keep its integrity. The entity for each player includes data such as their name, jersey number, height, and weight. In regards to player information, the database makes sure not to collect more attributes than needed. The position entity includes the individual positions, their roles in the team, and if they are considered a starter or substitute. The team’s entity includes the team name and the total number of players. The conference entity includes the conference name, amount of teams in conference, and the division they belong to. Our goal of designing this database is to provide a way to effectively manage and store information for this high school basketball team.  In doing so, it is easy to retrieve information about the players and their game statistics as the entities are laid out in a coherent manner. This database also gives scouts access to this information, information which can influence their decision to recruit a player to their college team. This can be especially vital for a player because they can secure a scholarship from this."
      ]
    },
    {
      "cell_type": "markdown",
      "metadata": {
        "id": "iY3B5GNOsg1H",
        "colab_type": "text"
      },
      "source": [
        "# ![alt text](https://raw.githubusercontent.com/T-Samps/IST-210-Spring-2020/master/IST%20210%20Group%20Project%201/IST%20group%20project%20basketball.png)"
      ]
    }
  ]
}