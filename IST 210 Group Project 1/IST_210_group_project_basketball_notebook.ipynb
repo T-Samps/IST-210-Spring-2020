{
  "nbformat": 4,
  "nbformat_minor": 0,
  "metadata": {
    "colab": {
      "name": "IST 210 group project basketball notebook.ipynb",
      "provenance": [],
      "authorship_tag": "ABX9TyNP24EAsM60aPJSRsvmXKM6",
      "include_colab_link": true
    },
    "kernelspec": {
      "name": "python3",
      "display_name": "Python 3"
    }
  },
  "cells": [
    {
      "cell_type": "markdown",
      "metadata": {
        "id": "view-in-github",
        "colab_type": "text"
      },
      "source": [
        "<a href=\"https://colab.research.google.com/github/T-Samps/IST-210-Spring-2020/blob/master/IST%20210%20Group%20Project%201/IST_210_group_project_basketball_notebook.ipynb\" target=\"_parent\"><img src=\"https://colab.research.google.com/assets/colab-badge.svg\" alt=\"Open In Colab\"/></a>"
      ]
    },
    {
      "cell_type": "markdown",
      "metadata": {
        "id": "MpqbdLqIkaXK",
        "colab_type": "text"
      },
      "source": [
        "**High School Basketball**"
      ]
    },
    {
      "cell_type": "markdown",
      "metadata": {
        "id": "jck8IoUdS1GT",
        "colab_type": "text"
      },
      "source": [
        "Our first idea is for an independent business based around basketball, but with a bigger focus on local high school level competitions. This business would specialize in recording and publishing the stats per game of all players of the participating divisions. This is an example of a standard database, a database which uniquely stores valuable information about a high school basketball team. Since the design for a basketball or sports database already exists, this example is considered a new product, not a new business idea.  Each element of the game has been separated into different categories which include specific data points. The entity for game statistics includes data such as points scored, assists, blocks, and steals. This is arguably the most important entity, as the player stats must keep its integrity. The entity for each player includes data such as their name, jersey number, height, and weight. In regards to player information, the database makes sure not to collect more attributes than needed. The position entity includes the individual positions, their roles in the team, and if they are considered a starter or substitute. The team’s entity includes the team name and the total number of players. The conference entity includes the conference name, amount of teams in conference, and the division they belong to. Our goal of designing this database is to provide a way to effectively manage and store information for this high school basketball team.  In doing so, it is easy to retrieve information about the players and their game statistics as the entities are laid out in a coherent manner. This database also gives scouts access to this information, information which can influence their decision to recruit a player to their college team. This can be especially vital for a player because they can secure a scholarship from this."
      ]
    },
    {
      "cell_type": "markdown",
      "metadata": {
        "id": "iY3B5GNOsg1H",
        "colab_type": "text"
      },
      "source": [
        "# ![alt text](https://raw.githubusercontent.com/T-Samps/IST-210-Spring-2020/master/IST%20210%20Group%20Project%201/IST%20group%20project%20basketball.png)"
      ]
    },
    {
      "cell_type": "markdown",
      "metadata": {
        "id": "AWpgK_YJke20",
        "colab_type": "text"
      },
      "source": [
        "**Music**"
      ]
    },
    {
      "cell_type": "markdown",
      "metadata": {
        "id": "5R7p3Pczjm6Z",
        "colab_type": "text"
      },
      "source": [
        "Our second idea pertains to the organization of music into a searchable database. This project is considered a standard database. Databases have already been made and are a necessity for music applications like Spotify or Apple Music, so this database is considered a new product, not a new idea. The first entity is the artist, which includes the artist name, amount of band members, names of band members. Second entity is song, which includes the song name and length of song. The third entity is the album, which contains the album name, as well as the amount of songs on the album. Fourth entity is genre, which lists the genres of which each song identifies. The fifth and final entity is record label, which includes the record label name, and location of the record label. It was important that the database only collect the necessary information regarding the music featured in the database. Having too much information that does not get utilized by consumers is ineffective and distracting. Our intended goal of this database is to effectively place and search for songs within the genre they belong to. It is also very possible for a song to belong in multiple genres, which is why it’s meaningful to have created this database in the first place. A “typical” business day for our company would include gathering songs from multiple artists and classifying each within one or multiple genres, and then providing a way for customers to search for songs by genre. This database of songs would be continually and diligently updated, and would provide users the ability to more efficiently search for songs that would suit they’re individual tastes."
      ]
    },
    {
      "cell_type": "markdown",
      "metadata": {
        "id": "l5eBLBeKj_Hc",
        "colab_type": "text"
      },
      "source": [
        "![alt text](https://raw.githubusercontent.com/T-Samps/IST-210-Spring-2020/master/IST%20210%20Group%20Project%201/songs.png)"
      ]
    },
    {
      "cell_type": "markdown",
      "metadata": {
        "id": "dEOG8UOKkigw",
        "colab_type": "text"
      },
      "source": [
        "**Postal Service**"
      ]
    },
    {
      "cell_type": "markdown",
      "metadata": {
        "id": "XRv88cfxkFBG",
        "colab_type": "text"
      },
      "source": [
        "Our third idea relates to the postal service. Like the previous ideas, this is also a standard database. Again, this project is not a new idea, rather a new product.Since the postal service is a huge national task, a database is almost required to adequately store information about packages, letters, and other mailed items. The first entity is the sender. The database stores the name of the sender, the return address of the sender, and the outbound address. The next entity is receiver, which contains info on the name of the receiver and the location of the receiver. The third entity is the package type. This is a simple entity which differentiates the mailed item as a letter, small package, or large package. The package type entity is one of the most important entities because it decides how and when an item is delivered. The fourth entity is the postal company, which, similar to the package type entity, simply differentiates the company as FedEx, UPS, or USPS. The final entity is the shipping type, being overnight, express, or standard. The database holds lots of responsibility in correctly marking a package so that the process of order placement to delivery is as expedient and efficient as possible. The postal service database is the most unique idea, as it has entities that classify the order, rather than collecting multiple attributes. The goal of the postal service database is to have consistent classification of package types so that postal services can deliver to consumers in an appropriate amount of time with the highest efficiency. A typical business interaction would include a consumer ordering a package online, then a postal service determining when and where the specific package is heading. You can interpret the postal service as the “middleman” because it takes place between order placement and order delivery."
      ]
    },
    {
      "cell_type": "markdown",
      "metadata": {
        "id": "ouRqQITWkJm4",
        "colab_type": "text"
      },
      "source": [
        "![alt text](https://raw.githubusercontent.com/T-Samps/IST-210-Spring-2020/master/IST%20210%20Group%20Project%201/postal%20diagram.png)"
      ]
    }
  ]
}