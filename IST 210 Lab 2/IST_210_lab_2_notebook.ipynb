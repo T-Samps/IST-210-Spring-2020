{
  "nbformat": 4,
  "nbformat_minor": 0,
  "metadata": {
    "colab": {
      "name": "IST 210 lab 2 notebook.ipynb",
      "provenance": [],
      "authorship_tag": "ABX9TyOxEN7J/hygAFeZSRyRjAp8",
      "include_colab_link": true
    },
    "kernelspec": {
      "name": "python3",
      "display_name": "Python 3"
    }
  },
  "cells": [
    {
      "cell_type": "markdown",
      "metadata": {
        "id": "view-in-github",
        "colab_type": "text"
      },
      "source": [
        "<a href=\"https://colab.research.google.com/github/T-Samps/IST-210-Spring-2020/blob/master/IST%20210%20Lab%202/IST_210_lab_2_notebook.ipynb\" target=\"_parent\"><img src=\"https://colab.research.google.com/assets/colab-badge.svg\" alt=\"Open In Colab\"/></a>"
      ]
    },
    {
      "cell_type": "markdown",
      "metadata": {
        "id": "hIXByQqMnlZf",
        "colab_type": "text"
      },
      "source": [
        "![alt text](https://raw.githubusercontent.com/T-Samps/IST-210-Spring-2020/master/IST%20210%20Lab%202/Pet%20Shop%20Diagram.png)"
      ]
    },
    {
      "cell_type": "markdown",
      "metadata": {
        "id": "sIwC-dWFmJB8",
        "colab_type": "text"
      },
      "source": [
        "**Pet Shop ER Diagram**"
      ]
    },
    {
      "cell_type": "markdown",
      "metadata": {
        "id": "f5mxrxuemRgs",
        "colab_type": "text"
      },
      "source": [
        "I created my diagram to consist of six tables to break down the process of purchasing pets and pet food from a pet shop. I decided to start with a table labeled \"Customers\" at the top of the diagram and work my way down, since I believed it was the easiest way to display how the loyalty system worked, and also because it is where all other aspects of the diagram (food and pets) will eventually end up at the end of a purchase. The \"Food Purchase\" and \"Pet Purchase\" tables are pretty similar, and both connect to the \"Customers\" table in the same way through the \"Loyalty ID\" attribute. I wanted to make both transaction tables similar since they only really differ on the type of item being purchased, which provided a clear path to make tables specifically tailored for both pets and food. The \"Pets\" and \"Food\" tables were the next in their respective chains and were designed to provide more specific information on each pet and food item themselves. There was one more specification that needed to be covered however, and that was the enclosures that the animals were kept in. I decided to make a dedicated \"Enclosures\" table as my sixth and final table since I could easily connect it to the \"Pets\" table through a shared \"Enclosure ID\" attribute. As far as the physical placement of the tables in the diagram are concerned, I attempted to split the diagram into two halves with everything food related on the left, and everything pet related on the right. I figured that this would be the most efficient way to organize every aspect of the diagram and make it easier to read."
      ]
    }
  ]
}