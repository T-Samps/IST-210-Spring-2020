{
  "nbformat": 4,
  "nbformat_minor": 0,
  "metadata": {
    "colab": {
      "name": "firstDay.ipynb",
      "provenance": [],
      "authorship_tag": "ABX9TyO0RCC1hmtCm2Xa1seeBbLv",
      "include_colab_link": true
    },
    "kernelspec": {
      "name": "python3",
      "display_name": "Python 3"
    }
  },
  "cells": [
    {
      "cell_type": "markdown",
      "metadata": {
        "id": "view-in-github",
        "colab_type": "text"
      },
      "source": [
        "<a href=\"https://colab.research.google.com/github/T-Samps/IST-210-Spring-2020/blob/master/introduction/firstDay.ipynb\" target=\"_parent\"><img src=\"https://colab.research.google.com/assets/colab-badge.svg\" alt=\"Open In Colab\"/></a>"
      ]
    },
    {
      "cell_type": "code",
      "metadata": {
        "id": "rerJ21D8yfEq",
        "colab_type": "code",
        "outputId": "d31204f0-613f-4d45-afab-d2d08085c14d",
        "colab": {
          "base_uri": "https://localhost:8080/",
          "height": 34
        }
      },
      "source": [
        "2+2"
      ],
      "execution_count": 0,
      "outputs": [
        {
          "output_type": "execute_result",
          "data": {
            "text/plain": [
              "4"
            ]
          },
          "metadata": {
            "tags": []
          },
          "execution_count": 3
        }
      ]
    },
    {
      "cell_type": "code",
      "metadata": {
        "id": "JsoYXqIxz0oY",
        "colab_type": "code",
        "outputId": "bd4fe878-63bd-43c3-edb2-7b47ab5f00ee",
        "colab": {
          "base_uri": "https://localhost:8080/",
          "height": 34
        }
      },
      "source": [
        "2+3"
      ],
      "execution_count": 0,
      "outputs": [
        {
          "output_type": "execute_result",
          "data": {
            "text/plain": [
              "5"
            ]
          },
          "metadata": {
            "tags": []
          },
          "execution_count": 4
        }
      ]
    },
    {
      "cell_type": "markdown",
      "metadata": {
        "id": "VJRRTMo8z-CK",
        "colab_type": "text"
      },
      "source": [
        "This is my first notebook"
      ]
    },
    {
      "cell_type": "markdown",
      "metadata": {
        "id": "hj4_efvs0RVW",
        "colab_type": "text"
      },
      "source": [
        "**B O L D**"
      ]
    },
    {
      "cell_type": "markdown",
      "metadata": {
        "id": "Ujkf-5-e0muY",
        "colab_type": "text"
      },
      "source": [
        "### Header"
      ]
    },
    {
      "cell_type": "markdown",
      "metadata": {
        "id": "bF2QV4-f4Qga",
        "colab_type": "text"
      },
      "source": [
        "![alt text](https://raw.githubusercontent.com/T-Samps/IST-210-Spring-2020/master/introduction/Red-Arrow.png)"
      ]
    }
  ]
}