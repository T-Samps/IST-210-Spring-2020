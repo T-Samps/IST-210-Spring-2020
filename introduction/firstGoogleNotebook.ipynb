{
  "nbformat": 4,
  "nbformat_minor": 0,
  "metadata": {
    "colab": {
      "name": "firstGoogleNotebook.ipynb",
      "provenance": [],
      "authorship_tag": "ABX9TyNbOZae0EqvQrhyb8QU4X9p",
      "include_colab_link": true
    },
    "kernelspec": {
      "name": "python3",
      "display_name": "Python 3"
    }
  },
  "cells": [
    {
      "cell_type": "markdown",
      "metadata": {
        "id": "view-in-github",
        "colab_type": "text"
      },
      "source": [
        "<a href=\"https://colab.research.google.com/github/T-Samps/IST-210-Spring-2020/blob/master/introduction/firstGoogleNotebook.ipynb\" target=\"_parent\"><img src=\"https://colab.research.google.com/assets/colab-badge.svg\" alt=\"Open In Colab\"/></a>"
      ]
    },
    {
      "cell_type": "markdown",
      "metadata": {
        "id": "A0nxW7-Y23BX",
        "colab_type": "text"
      },
      "source": [
        "### Name\n",
        "     Tyler Sampsell\n",
        "### IST Related Interests\n",
        "     Cyber Security\n",
        "### Future Job/Career\n",
        "     Programmer"
      ]
    }
  ]
}