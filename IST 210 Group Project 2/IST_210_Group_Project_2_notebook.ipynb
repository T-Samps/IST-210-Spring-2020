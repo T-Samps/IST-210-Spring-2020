{
  "nbformat": 4,
  "nbformat_minor": 0,
  "metadata": {
    "colab": {
      "name": "IST 210 Group Project 2 notebook.ipynb",
      "provenance": [],
      "authorship_tag": "ABX9TyN1We8j2vfUERuSuJLTYTPb",
      "include_colab_link": true
    },
    "kernelspec": {
      "name": "python3",
      "display_name": "Python 3"
    }
  },
  "cells": [
    {
      "cell_type": "markdown",
      "metadata": {
        "id": "view-in-github",
        "colab_type": "text"
      },
      "source": [
        "<a href=\"https://colab.research.google.com/github/T-Samps/IST-210-Spring-2020/blob/master/IST%20210%20Group%20Project%202/IST_210_Group_Project_2_notebook.ipynb\" target=\"_parent\"><img src=\"https://colab.research.google.com/assets/colab-badge.svg\" alt=\"Open In Colab\"/></a>"
      ]
    },
    {
      "cell_type": "markdown",
      "metadata": {
        "id": "WAmqJJwrqUf2",
        "colab_type": "text"
      },
      "source": [
        "![alt text](https://raw.githubusercontent.com/T-Samps/IST-210-Spring-2020/master/IST%20210%20Group%20Project%202/Updated_basketball_diagram.png)"
      ]
    },
    {
      "cell_type": "markdown",
      "metadata": {
        "id": "kSm5lVlTqVwh",
        "colab_type": "text"
      },
      "source": [
        "**The purpose of creating the ER diagram is to help local high school basketball teams help keep track of team and individual stats per season. This database was built with expansion in mind, and can keep track of stats in multiple conferences.**"
      ]
    },
    {
      "cell_type": "markdown",
      "metadata": {
        "id": "R4LSWC67qXb-",
        "colab_type": "text"
      },
      "source": [
        "**The first entity of the database is called Player.**"
      ]
    },
    {
      "cell_type": "markdown",
      "metadata": {
        "id": "P8F40-R3rTTx",
        "colab_type": "text"
      },
      "source": [
        "This entity is meant to record basic information about individual players. The primary key is the player number. There are two foreign keys, Team ID and Player ID, which correspond to the Team and Game Stats entities respectively. There are two additional attributes, role and year."
      ]
    },
    {
      "cell_type": "markdown",
      "metadata": {
        "id": "8qWDTtMurXJo",
        "colab_type": "text"
      },
      "source": [
        "**The second entity of the database is called Team.**"
      ]
    },
    {
      "cell_type": "markdown",
      "metadata": {
        "id": "rndVIJMNraz0",
        "colab_type": "text"
      },
      "source": [
        "This entity records basic information on individual teams. The primary key of the entity is Team ID. There are two foreign keys, Conference ID and Coach ID, which correspond to the Conference and Coach entities respectively. There are two additional attributes, being team name, number of players, and location."
      ]
    },
    {
      "cell_type": "markdown",
      "metadata": {
        "id": "SMAlict3rd6r",
        "colab_type": "text"
      },
      "source": [
        "**The third entity of the database is called Record.**"
      ]
    },
    {
      "cell_type": "markdown",
      "metadata": {
        "id": "2EoOKecdrtUs",
        "colab_type": "text"
      },
      "source": [
        "This entity records information on a team’s ranking within a conference. The primary key of the Record entity is rank order, and includes two foreign keys, Team ID and Player ID, which correspond to the Team and Game Stats entities respectively. There is one additional attribute within the Record entity, being schedule strength."
      ]
    },
    {
      "cell_type": "markdown",
      "metadata": {
        "id": "BMrW4XMCrwqT",
        "colab_type": "text"
      },
      "source": [
        "**The fourth entity of the database is called Baskets.**"
      ]
    },
    {
      "cell_type": "markdown",
      "metadata": {
        "id": "ucV9XnG8r1jx",
        "colab_type": "text"
      },
      "source": [
        "The purpose of this entity is to record basic information on individual player stats in games. There are two primary keys in this entity, being Player ID and Game ID. There are no foreign keys in this entity. There are three additional attributes, being three pointers scored, baskets scored, and free throws scored. This is arguably the most important entity in the database, as player stats are vital to recording information about basketball games."
      ]
    },
    {
      "cell_type": "markdown",
      "metadata": {
        "id": "QsR-swvcr4nf",
        "colab_type": "text"
      },
      "source": [
        "**The fifth entity of the database is called Coach.**"
      ]
    },
    {
      "cell_type": "markdown",
      "metadata": {
        "id": "W5l3zWSOr8yT",
        "colab_type": "text"
      },
      "source": [
        "This entity holds information about the coaches for each team. The primary key for this entity is Coach ID. There is one foreign key, Team ID, which corresponds to the Team entity. There are two additional attributes, name and school."
      ]
    },
    {
      "cell_type": "markdown",
      "metadata": {
        "id": "JA4Y60w2r_Xi",
        "colab_type": "text"
      },
      "source": [
        "**The sixth and final entity is called Conference.**"
      ]
    },
    {
      "cell_type": "markdown",
      "metadata": {
        "id": "qWj9lCy1sDYc",
        "colab_type": "text"
      },
      "source": [
        "The purpose of this entity is to keep track of information about the conferences that the teams play within. The primary key for this entity is Conference ID. There is one foreign key, Team ID, which corresponds to the Team entity. There are two additional attributes, number of teams and section. "
      ]
    }
  ]
}