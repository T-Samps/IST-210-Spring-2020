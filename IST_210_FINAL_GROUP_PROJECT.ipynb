{
  "nbformat": 4,
  "nbformat_minor": 0,
  "metadata": {
    "colab": {
      "name": "IST 210 FINAL GROUP PROJECT.ipynb",
      "provenance": [],
      "authorship_tag": "ABX9TyMf8sA2tMi+WmsDSp5cxx+b",
      "include_colab_link": true
    },
    "kernelspec": {
      "name": "python3",
      "display_name": "Python 3"
    }
  },
  "cells": [
    {
      "cell_type": "markdown",
      "metadata": {
        "id": "view-in-github",
        "colab_type": "text"
      },
      "source": [
        "<a href=\"https://colab.research.google.com/github/T-Samps/IST-210-Spring-2020/blob/master/IST_210_FINAL_GROUP_PROJECT.ipynb\" target=\"_parent\"><img src=\"https://colab.research.google.com/assets/colab-badge.svg\" alt=\"Open In Colab\"/></a>"
      ]
    },
    {
      "cell_type": "markdown",
      "metadata": {
        "id": "XzoozGDcNZgU",
        "colab_type": "text"
      },
      "source": [
        "**IST 210 Final Group Project**"
      ]
    },
    {
      "cell_type": "markdown",
      "metadata": {
        "id": "WAmqJJwrqUf2",
        "colab_type": "text"
      },
      "source": [
        "![alt text](https://raw.githubusercontent.com/T-Samps/IST-210-Spring-2020/master/IST%20210%20Group%20Project%202/Updated_basketball_diagram.png)"
      ]
    },
    {
      "cell_type": "code",
      "metadata": {
        "id": "_DMtey09zfTk",
        "colab_type": "code",
        "outputId": "051d977b-b3d4-4bf5-ba99-4b6c56b9f4ad",
        "colab": {
          "base_uri": "https://localhost:8080/",
          "height": 50
        }
      },
      "source": [
        "%load_ext sql"
      ],
      "execution_count": 118,
      "outputs": [
        {
          "output_type": "stream",
          "text": [
            "The sql extension is already loaded. To reload it, use:\n",
            "  %reload_ext sql\n"
          ],
          "name": "stdout"
        }
      ]
    },
    {
      "cell_type": "code",
      "metadata": {
        "id": "wWQrdUA5zibn",
        "colab_type": "code",
        "outputId": "7d596ea4-05b3-4b9d-e9d3-6042605d2344",
        "colab": {
          "base_uri": "https://localhost:8080/",
          "height": 34
        }
      },
      "source": [
        "%sql sqlite:///basketballDatabase.db"
      ],
      "execution_count": 119,
      "outputs": [
        {
          "output_type": "execute_result",
          "data": {
            "text/plain": [
              "'Connected: @basketballDatabase.db'"
            ]
          },
          "metadata": {
            "tags": []
          },
          "execution_count": 119
        }
      ]
    },
    {
      "cell_type": "code",
      "metadata": {
        "id": "SMBFZI8n0f9f",
        "colab_type": "code",
        "outputId": "224f6222-d16d-4bdd-eddb-e57f809b7ed3",
        "colab": {
          "base_uri": "https://localhost:8080/",
          "height": 84
        }
      },
      "source": [
        "%%sql\n",
        "DROP TABLE IF EXISTS Player;\n",
        "CREATE TABLE Player(playerNumber integer PRIMARY KEY, teamID integer, role text, year integer, playerID integer);"
      ],
      "execution_count": 120,
      "outputs": [
        {
          "output_type": "stream",
          "text": [
            " * sqlite:///basketballDatabase.db\n",
            "Done.\n",
            "Done.\n"
          ],
          "name": "stdout"
        },
        {
          "output_type": "execute_result",
          "data": {
            "text/plain": [
              "[]"
            ]
          },
          "metadata": {
            "tags": []
          },
          "execution_count": 120
        }
      ]
    },
    {
      "cell_type": "code",
      "metadata": {
        "id": "2K1-1XMqsnXs",
        "colab_type": "code",
        "colab": {
          "base_uri": "https://localhost:8080/",
          "height": 134
        },
        "outputId": "eb1fa078-91bf-4a61-ad0f-142c91dfe2da"
      },
      "source": [
        "%%sql\n",
        "INSERT INTO Player VALUES('22','1','Point Guard','Senior','1');\n",
        "INSERT INTO Player VALUES('9','2','Post','Junior','2');\n",
        "INSERT INTO Player VALUES('10','3','Wing','Senior','3');\n",
        "INSERT INTO Player VALUES('15','4','Point Guard','Sophomore','4');\n",
        "INSERT INTO Player VALUES('7','5','Post','Senior','5');"
      ],
      "execution_count": 121,
      "outputs": [
        {
          "output_type": "stream",
          "text": [
            " * sqlite:///basketballDatabase.db\n",
            "1 rows affected.\n",
            "1 rows affected.\n",
            "1 rows affected.\n",
            "1 rows affected.\n",
            "1 rows affected.\n"
          ],
          "name": "stdout"
        },
        {
          "output_type": "execute_result",
          "data": {
            "text/plain": [
              "[]"
            ]
          },
          "metadata": {
            "tags": []
          },
          "execution_count": 121
        }
      ]
    },
    {
      "cell_type": "code",
      "metadata": {
        "id": "_Q_72nD715Uc",
        "colab_type": "code",
        "outputId": "00eff21e-43dd-4d1a-ff4e-27dac41628c5",
        "colab": {
          "base_uri": "https://localhost:8080/",
          "height": 84
        }
      },
      "source": [
        "%%sql\n",
        "DROP TABLE IF EXISTS Team;\n",
        "CREATE TABLE Team(teamID integer PRIMARY KEY, teamName text, numPlayers integer, conferenceID integer, location text, coachID integer);"
      ],
      "execution_count": 122,
      "outputs": [
        {
          "output_type": "stream",
          "text": [
            " * sqlite:///basketballDatabase.db\n",
            "Done.\n",
            "Done.\n"
          ],
          "name": "stdout"
        },
        {
          "output_type": "execute_result",
          "data": {
            "text/plain": [
              "[]"
            ]
          },
          "metadata": {
            "tags": []
          },
          "execution_count": 122
        }
      ]
    },
    {
      "cell_type": "code",
      "metadata": {
        "colab_type": "code",
        "id": "lkrotiC4uANQ",
        "colab": {
          "base_uri": "https://localhost:8080/",
          "height": 134
        },
        "outputId": "a6d4b166-d269-4287-bad1-df5995b02013"
      },
      "source": [
        "%%sql\n",
        "INSERT INTO Team VALUES('1','Eagles','12','1','Jamestown','1');\n",
        "INSERT INTO Team VALUES('2','Tigers','19','2','Montgomery','2');\n",
        "INSERT INTO Team VALUES('3','Spartans','20','3','Dallas','3');\n",
        "INSERT INTO Team VALUES('4','Lions','13','4','Warrensville','4');\n",
        "INSERT INTO Team VALUES('5','Bears','22','5','Newtown','5');"
      ],
      "execution_count": 123,
      "outputs": [
        {
          "output_type": "stream",
          "text": [
            " * sqlite:///basketballDatabase.db\n",
            "1 rows affected.\n",
            "1 rows affected.\n",
            "1 rows affected.\n",
            "1 rows affected.\n",
            "1 rows affected.\n"
          ],
          "name": "stdout"
        },
        {
          "output_type": "execute_result",
          "data": {
            "text/plain": [
              "[]"
            ]
          },
          "metadata": {
            "tags": []
          },
          "execution_count": 123
        }
      ]
    },
    {
      "cell_type": "code",
      "metadata": {
        "id": "NkL1yMZ72e9m",
        "colab_type": "code",
        "outputId": "fcd8fe07-118f-4ca2-baf8-17ee353ce5f3",
        "colab": {
          "base_uri": "https://localhost:8080/",
          "height": 84
        }
      },
      "source": [
        "%%sql\n",
        "DROP TABLE IF EXISTS Ranking;\n",
        "CREATE TABLE Ranking(rankOrder integer PRIMARY KEY, teamID integer, playerID integer, scheduleStrength real);"
      ],
      "execution_count": 124,
      "outputs": [
        {
          "output_type": "stream",
          "text": [
            " * sqlite:///basketballDatabase.db\n",
            "Done.\n",
            "Done.\n"
          ],
          "name": "stdout"
        },
        {
          "output_type": "execute_result",
          "data": {
            "text/plain": [
              "[]"
            ]
          },
          "metadata": {
            "tags": []
          },
          "execution_count": 124
        }
      ]
    },
    {
      "cell_type": "code",
      "metadata": {
        "id": "SqFGHvJ8wBOI",
        "colab_type": "code",
        "colab": {
          "base_uri": "https://localhost:8080/",
          "height": 134
        },
        "outputId": "075e3681-aaee-4308-c2ac-df790738fa85"
      },
      "source": [
        "%%sql\n",
        "INSERT INTO Ranking VALUES('1','3','3','9.5');\n",
        "INSERT INTO Ranking VALUES('2','4','4','5.7');\n",
        "INSERT INTO Ranking VALUES('3','2','2','8.0');\n",
        "INSERT INTO Ranking VALUES('4','5','5','2.1');\n",
        "INSERT INTO Ranking VALUES('5','1','1','4.6');"
      ],
      "execution_count": 125,
      "outputs": [
        {
          "output_type": "stream",
          "text": [
            " * sqlite:///basketballDatabase.db\n",
            "1 rows affected.\n",
            "1 rows affected.\n",
            "1 rows affected.\n",
            "1 rows affected.\n",
            "1 rows affected.\n"
          ],
          "name": "stdout"
        },
        {
          "output_type": "execute_result",
          "data": {
            "text/plain": [
              "[]"
            ]
          },
          "metadata": {
            "tags": []
          },
          "execution_count": 125
        }
      ]
    },
    {
      "cell_type": "code",
      "metadata": {
        "id": "luFaaJT23A_2",
        "colab_type": "code",
        "outputId": "c8fd40cb-0f29-4edc-f520-24a01dd759b1",
        "colab": {
          "base_uri": "https://localhost:8080/",
          "height": 84
        }
      },
      "source": [
        "%%sql\n",
        "DROP TABLE IF EXISTS Baskets;\n",
        "CREATE TABLE Baskets(playerID integer PRIMARY KEY, gameID integer, threePointBaskets integer, twoPointBaskets integer, freeThrows integer);"
      ],
      "execution_count": 126,
      "outputs": [
        {
          "output_type": "stream",
          "text": [
            " * sqlite:///basketballDatabase.db\n",
            "Done.\n",
            "Done.\n"
          ],
          "name": "stdout"
        },
        {
          "output_type": "execute_result",
          "data": {
            "text/plain": [
              "[]"
            ]
          },
          "metadata": {
            "tags": []
          },
          "execution_count": 126
        }
      ]
    },
    {
      "cell_type": "code",
      "metadata": {
        "id": "6Cf2aDSxw0oA",
        "colab_type": "code",
        "colab": {
          "base_uri": "https://localhost:8080/",
          "height": 134
        },
        "outputId": "af61ecf6-5373-4b7e-c98f-84cb21087ad6"
      },
      "source": [
        "%%sql\n",
        "INSERT INTO Baskets VALUES('1','2','8','5','6');\n",
        "INSERT INTO Baskets VALUES('2','2','0','7','10');\n",
        "INSERT INTO Baskets VALUES('3','3','4','5','4');\n",
        "INSERT INTO Baskets VALUES('4','3','5','4','6');\n",
        "INSERT INTO Baskets VALUES('5','4','1','10','8');"
      ],
      "execution_count": 127,
      "outputs": [
        {
          "output_type": "stream",
          "text": [
            " * sqlite:///basketballDatabase.db\n",
            "1 rows affected.\n",
            "1 rows affected.\n",
            "1 rows affected.\n",
            "1 rows affected.\n",
            "1 rows affected.\n"
          ],
          "name": "stdout"
        },
        {
          "output_type": "execute_result",
          "data": {
            "text/plain": [
              "[]"
            ]
          },
          "metadata": {
            "tags": []
          },
          "execution_count": 127
        }
      ]
    },
    {
      "cell_type": "code",
      "metadata": {
        "id": "p-HCCxiQ4EMN",
        "colab_type": "code",
        "outputId": "28c24860-3d54-428a-ae71-96b675b084d6",
        "colab": {
          "base_uri": "https://localhost:8080/",
          "height": 84
        }
      },
      "source": [
        "%%sql\n",
        "DROP TABLE IF EXISTS Coach;\n",
        "CREATE TABLE Coach(coachID integer PRIMARY KEY, name text, teamID integer, school text);"
      ],
      "execution_count": 128,
      "outputs": [
        {
          "output_type": "stream",
          "text": [
            " * sqlite:///basketballDatabase.db\n",
            "Done.\n",
            "Done.\n"
          ],
          "name": "stdout"
        },
        {
          "output_type": "execute_result",
          "data": {
            "text/plain": [
              "[]"
            ]
          },
          "metadata": {
            "tags": []
          },
          "execution_count": 128
        }
      ]
    },
    {
      "cell_type": "code",
      "metadata": {
        "id": "QgH44aD4kG_Z",
        "colab_type": "code",
        "colab": {
          "base_uri": "https://localhost:8080/",
          "height": 134
        },
        "outputId": "836b0b5e-b368-4fba-aef6-6ea4e4b2ce4d"
      },
      "source": [
        "%%sql\n",
        "INSERT INTO Coach VALUES('1','Johnson','1','Eagles');\n",
        "INSERT INTO Coach VALUES('2','Williams','2','Tigers');\n",
        "INSERT INTO Coach VALUES('3','Smith','3','Spartans');\n",
        "INSERT INTO Coach VALUES('4','Evans','4','Lions');\n",
        "INSERT INTO Coach VALUES('5','Jones','5','Bears');"
      ],
      "execution_count": 129,
      "outputs": [
        {
          "output_type": "stream",
          "text": [
            " * sqlite:///basketballDatabase.db\n",
            "1 rows affected.\n",
            "1 rows affected.\n",
            "1 rows affected.\n",
            "1 rows affected.\n",
            "1 rows affected.\n"
          ],
          "name": "stdout"
        },
        {
          "output_type": "execute_result",
          "data": {
            "text/plain": [
              "[]"
            ]
          },
          "metadata": {
            "tags": []
          },
          "execution_count": 129
        }
      ]
    },
    {
      "cell_type": "code",
      "metadata": {
        "id": "-JDK-FoN4Y53",
        "colab_type": "code",
        "outputId": "916afded-3c5c-432e-988b-18f76ca3351e",
        "colab": {
          "base_uri": "https://localhost:8080/",
          "height": 84
        }
      },
      "source": [
        "%%sql\n",
        "DROP TABLE IF EXISTS Conference;\n",
        "CREATE TABLE Conference(conferenceID integer PRIMARY KEY, numTeams integer, section integer, teamID integer);"
      ],
      "execution_count": 130,
      "outputs": [
        {
          "output_type": "stream",
          "text": [
            " * sqlite:///basketballDatabase.db\n",
            "Done.\n",
            "Done.\n"
          ],
          "name": "stdout"
        },
        {
          "output_type": "execute_result",
          "data": {
            "text/plain": [
              "[]"
            ]
          },
          "metadata": {
            "tags": []
          },
          "execution_count": 130
        }
      ]
    },
    {
      "cell_type": "code",
      "metadata": {
        "id": "LZWH7YV0lGMw",
        "colab_type": "code",
        "colab": {
          "base_uri": "https://localhost:8080/",
          "height": 134
        },
        "outputId": "c923708c-2d39-459b-c610-4a08bf1210bc"
      },
      "source": [
        "%%sql\n",
        "INSERT INTO Conference VALUES('1','10','2','1');\n",
        "INSERT INTO Conference VALUES('2','8','3','2');\n",
        "INSERT INTO Conference VALUES('3','12','3','2');\n",
        "INSERT INTO Conference VALUES('4','6','5','4');\n",
        "INSERT INTO Conference VALUES('5','8','5','4');"
      ],
      "execution_count": 131,
      "outputs": [
        {
          "output_type": "stream",
          "text": [
            " * sqlite:///basketballDatabase.db\n",
            "1 rows affected.\n",
            "1 rows affected.\n",
            "1 rows affected.\n",
            "1 rows affected.\n",
            "1 rows affected.\n"
          ],
          "name": "stdout"
        },
        {
          "output_type": "execute_result",
          "data": {
            "text/plain": [
              "[]"
            ]
          },
          "metadata": {
            "tags": []
          },
          "execution_count": 131
        }
      ]
    },
    {
      "cell_type": "markdown",
      "metadata": {
        "id": "eb9jraJ0Rx3I",
        "colab_type": "text"
      },
      "source": [
        "**Introduction to Project**"
      ]
    },
    {
      "cell_type": "markdown",
      "metadata": {
        "id": "25ZZVOc4R1fB",
        "colab_type": "text"
      },
      "source": [
        "For our group’s project, we went with a sports-based theme. We all have prior experience with playing a variety of sports whether it be in high school, or on club teams. Therefore, keeping this project sports oriented helped us better understand the material, which therefore benefitted us in meeting the requirements of the project that needed to be attained. Originally, we had brainstormed three separate ideas that could have been used for this project.￼ Along with the basketball proposal, we also had a music category that entailed artists and their songs, and also a mail delivery idea that included addresses and shipping rates. From there, we narrowed it down to one idea, then started to go in more depth detail on that specific topic. This then allowed us to create the ER diagram based off the extra details we came up with. For example, player, team, coach, baskets, conference, and rankings were used as our 6 individual table names. We then elaborated more in depth on these and allowed us to create our primary key’s (PK) and so forth. "
      ]
    },
    {
      "cell_type": "markdown",
      "metadata": {
        "id": "FJdKfyepaq2H",
        "colab_type": "text"
      },
      "source": [
        "**Specifics in regards to our ER Diagram**"
      ]
    },
    {
      "cell_type": "markdown",
      "metadata": {
        "id": "V6ulZ_BrawbD",
        "colab_type": "text"
      },
      "source": [
        "Our ER Diagram is meant to simulate a box score. A box score is a statistical summary of a sporting event. For basketball, a box score is where you would find important stats like three point baskets, two point baskets, free throws, and more. Seeing as how our project is specialized for high school basketball, we expanded the capabilities of a normal box score by implementing the database component. Now, in addition to game-specific stats, a user can easily find key information on the players, teams, coaches, and the conference as a whole. This allows a complete view of each game played in the conference, and how each game affects the rankings. Having a database based on a sport is tough because of how complex the statistics can get, especially when applied with the goal of creating future game plans or studying teams. Our ER Diagram contains the essential information that is needed to provide a top down view of a high school basketball league. "
      ]
    },
    {
      "cell_type": "markdown",
      "metadata": {
        "id": "Xpb_mQyVa2bR",
        "colab_type": "text"
      },
      "source": [
        "**How we created our database, tables, and inserted data**"
      ]
    },
    {
      "cell_type": "markdown",
      "metadata": {
        "id": "Mf2jDCN1a-gY",
        "colab_type": "text"
      },
      "source": [
        "We were able to create the database by starting with the players table and working to connect that table with other tables we felt could hold data relating to it. We felt that the players would be the most important part of the database, as we felt our database was most suited to provide users with the means to search for, compare, and analyze the stats of certain players. Whether the stats were per game, per conference, or overall, we believed that working off of and around the players table was the most efficient strategy for creating the database. For the inserted data, we simply made up data points for each attribute in each table until we had 5 tuples each, and then inserted them into the tables. "
      ]
    },
    {
      "cell_type": "markdown",
      "metadata": {
        "id": "iRvSGwvSbDMn",
        "colab_type": "text"
      },
      "source": [
        "**Scenario for an average user using the database**"
      ]
    },
    {
      "cell_type": "markdown",
      "metadata": {
        "id": "SEmL0u9TbLfC",
        "colab_type": "text"
      },
      "source": [
        "One possible scenario that an average user could use with the information regarding our database is to look up basic statistics involving the individual teams. If the user wanted, they could look up the stat line of a singular player to see specific stats pertaining to a particular game. They could view things such as which individual player averages the most points per game (PPG), or which player has the greatest average relating to assists per game (APG), or even who leads the team in rebounds per game (RPG). This scenario in particular, could be extremely helpful to the coach, or manager of the team. Why? Well, our database can help illustrate to the user which players are performing up to standards, and which players are not. Numbers don’t lie, and this database will clearly show who’s contributing what. This allows the coach/manager of the team to be able to successfully make use of our database. "
      ]
    },
    {
      "cell_type": "markdown",
      "metadata": {
        "id": "faD0xUdXOWM9",
        "colab_type": "text"
      },
      "source": [
        "**Queries**"
      ]
    },
    {
      "cell_type": "code",
      "metadata": {
        "id": "ZtauZ9j9OhrX",
        "colab_type": "code",
        "colab": {
          "base_uri": "https://localhost:8080/",
          "height": 172
        },
        "outputId": "e98b6e83-95b7-4a4a-98ac-477f4ea9d6a1"
      },
      "source": [
        "%sql SELECT teamID, scheduleStrength from Ranking ORDER BY scheduleStrength DESC"
      ],
      "execution_count": 132,
      "outputs": [
        {
          "output_type": "stream",
          "text": [
            " * sqlite:///basketballDatabase.db\n",
            "Done.\n"
          ],
          "name": "stdout"
        },
        {
          "output_type": "execute_result",
          "data": {
            "text/html": [
              "<table>\n",
              "    <tr>\n",
              "        <th>teamID</th>\n",
              "        <th>scheduleStrength</th>\n",
              "    </tr>\n",
              "    <tr>\n",
              "        <td>3</td>\n",
              "        <td>9.5</td>\n",
              "    </tr>\n",
              "    <tr>\n",
              "        <td>2</td>\n",
              "        <td>8.0</td>\n",
              "    </tr>\n",
              "    <tr>\n",
              "        <td>4</td>\n",
              "        <td>5.7</td>\n",
              "    </tr>\n",
              "    <tr>\n",
              "        <td>1</td>\n",
              "        <td>4.6</td>\n",
              "    </tr>\n",
              "    <tr>\n",
              "        <td>5</td>\n",
              "        <td>2.1</td>\n",
              "    </tr>\n",
              "</table>"
            ],
            "text/plain": [
              "[(3, 9.5), (2, 8.0), (4, 5.7), (1, 4.6), (5, 2.1)]"
            ]
          },
          "metadata": {
            "tags": []
          },
          "execution_count": 132
        }
      ]
    },
    {
      "cell_type": "markdown",
      "metadata": {
        "id": "Mveutwq8bbzD",
        "colab_type": "text"
      },
      "source": [
        "Using this query, a user is able to display the schedule strength of each team in the league. In addition, schedule strength is displayed in descending order. Using this information, a user could find out which teams had the hardest season due to key away games and other wear and tear. Important information like schedule strength lends insight into team records within the conference, more than individual game stats can. "
      ]
    },
    {
      "cell_type": "code",
      "metadata": {
        "id": "WQFYR52SS_vh",
        "colab_type": "code",
        "colab": {
          "base_uri": "https://localhost:8080/",
          "height": 112
        },
        "outputId": "87c47a39-ceaa-4f7f-8cc4-4554ed4bea0b"
      },
      "source": [
        "%sql SELECT playerID, gameID, threePointBaskets from Baskets WHERE gameID is '2'"
      ],
      "execution_count": 133,
      "outputs": [
        {
          "output_type": "stream",
          "text": [
            " * sqlite:///basketballDatabase.db\n",
            "Done.\n"
          ],
          "name": "stdout"
        },
        {
          "output_type": "execute_result",
          "data": {
            "text/html": [
              "<table>\n",
              "    <tr>\n",
              "        <th>playerID</th>\n",
              "        <th>gameID</th>\n",
              "        <th>threePointBaskets</th>\n",
              "    </tr>\n",
              "    <tr>\n",
              "        <td>1</td>\n",
              "        <td>2</td>\n",
              "        <td>8</td>\n",
              "    </tr>\n",
              "    <tr>\n",
              "        <td>2</td>\n",
              "        <td>2</td>\n",
              "        <td>0</td>\n",
              "    </tr>\n",
              "</table>"
            ],
            "text/plain": [
              "[(1, 2, 8), (2, 2, 0)]"
            ]
          },
          "metadata": {
            "tags": []
          },
          "execution_count": 133
        }
      ]
    },
    {
      "cell_type": "markdown",
      "metadata": {
        "id": "1e43QBy4bhCJ",
        "colab_type": "text"
      },
      "source": [
        "Using this query, a user is able to display information on the player, game, and three-point baskets scored in a game. In this example, a user only displays this information based on one game, the game that has the gameID of 2. This query shows just how powerful the database can be when applied. When looking at data for one specific game, much can be learned from analyzing stats from one game and can be used to create a game plan moving into the next game."
      ]
    },
    {
      "cell_type": "code",
      "metadata": {
        "id": "QPL2IYpiTSdS",
        "colab_type": "code",
        "colab": {
          "base_uri": "https://localhost:8080/",
          "height": 172
        },
        "outputId": "cbd2358f-d784-4629-9251-7a9805c87351"
      },
      "source": [
        "%sql SELECT t.location, t.teamName, t.teamID, t.numPlayers, p.playerNumber, p.role, p.year from Team t, Player p WHERE t.teamID = p.teamID ORDER BY t.teamID"
      ],
      "execution_count": 135,
      "outputs": [
        {
          "output_type": "stream",
          "text": [
            " * sqlite:///basketballDatabase.db\n",
            "Done.\n"
          ],
          "name": "stdout"
        },
        {
          "output_type": "execute_result",
          "data": {
            "text/html": [
              "<table>\n",
              "    <tr>\n",
              "        <th>location</th>\n",
              "        <th>teamName</th>\n",
              "        <th>teamID</th>\n",
              "        <th>numPlayers</th>\n",
              "        <th>playerNumber</th>\n",
              "        <th>role</th>\n",
              "        <th>year</th>\n",
              "    </tr>\n",
              "    <tr>\n",
              "        <td>Jamestown</td>\n",
              "        <td>Eagles</td>\n",
              "        <td>1</td>\n",
              "        <td>12</td>\n",
              "        <td>22</td>\n",
              "        <td>Point Guard</td>\n",
              "        <td>Senior</td>\n",
              "    </tr>\n",
              "    <tr>\n",
              "        <td>Montgomery</td>\n",
              "        <td>Tigers</td>\n",
              "        <td>2</td>\n",
              "        <td>19</td>\n",
              "        <td>9</td>\n",
              "        <td>Post</td>\n",
              "        <td>Junior</td>\n",
              "    </tr>\n",
              "    <tr>\n",
              "        <td>Dallas</td>\n",
              "        <td>Spartans</td>\n",
              "        <td>3</td>\n",
              "        <td>20</td>\n",
              "        <td>10</td>\n",
              "        <td>Wing</td>\n",
              "        <td>Senior</td>\n",
              "    </tr>\n",
              "    <tr>\n",
              "        <td>Warrensville</td>\n",
              "        <td>Lions</td>\n",
              "        <td>4</td>\n",
              "        <td>13</td>\n",
              "        <td>15</td>\n",
              "        <td>Point Guard</td>\n",
              "        <td>Sophomore</td>\n",
              "    </tr>\n",
              "    <tr>\n",
              "        <td>Newtown</td>\n",
              "        <td>Bears</td>\n",
              "        <td>5</td>\n",
              "        <td>22</td>\n",
              "        <td>7</td>\n",
              "        <td>Post</td>\n",
              "        <td>Senior</td>\n",
              "    </tr>\n",
              "</table>"
            ],
            "text/plain": [
              "[('Jamestown', 'Eagles', 1, 12, 22, 'Point Guard', 'Senior'),\n",
              " ('Montgomery', 'Tigers', 2, 19, 9, 'Post', 'Junior'),\n",
              " ('Dallas', 'Spartans', 3, 20, 10, 'Wing', 'Senior'),\n",
              " ('Warrensville', 'Lions', 4, 13, 15, 'Point Guard', 'Sophomore'),\n",
              " ('Newtown', 'Bears', 5, 22, 7, 'Post', 'Senior')]"
            ]
          },
          "metadata": {
            "tags": []
          },
          "execution_count": 135
        }
      ]
    },
    {
      "cell_type": "markdown",
      "metadata": {
        "id": "EeCBySbRbkWP",
        "colab_type": "text"
      },
      "source": [
        "Using this query, a user is able to display a combined set of data from both the Team table and the Player table. This would allow a user to view more detailed information about each player and their respective teams, such as what the team's name is, the town the team is from, and the years of each of the players on those teams recorded in the database."
      ]
    }
  ]
}